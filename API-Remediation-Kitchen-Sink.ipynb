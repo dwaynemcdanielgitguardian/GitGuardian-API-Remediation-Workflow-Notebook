{
 "cells": [
  {
   "cell_type": "markdown",
   "id": "8c25dbc6",
   "metadata": {},
   "source": [
    "# GitGuardian Remediation Through APIs\n",
    "\n",
    "\n",
    "\n",
    "\n",
    "## Authentication\n",
    "\n",
    "We need to authorize your access to the GitGuardian platform\n",
    "- Go to your GitGuardian dashboard and click on API, then select the Person Access Tokens menu\n",
    "- create a new access token and copy it to the clipboard \n",
    "- DO NOT paste it into this view.  \n",
    "- create a new file in your project called \"authorization.py\" and add the line\n",
    "    - `token = '<GG API Key>'`\n",
    "- double check your `.gitignore` file to make sure this stays out of your source control. \n",
    "- ALTERNATIVELY - set up and use Hashicorp Vault, or another such crendentials manager. This is likely a better path, but this is an example repo."
   ]
  },
  {
   "cell_type": "code",
   "execution_count": null,
   "id": "e3ea10cc",
   "metadata": {},
   "outputs": [],
   "source": [
    "## In this first section we authenticate\n",
    "import requests\n",
    "import authorization\n",
    "\n",
    "auth_headers = {'Authorization' : 'Token {}'.format(authorization.token) }\n",
    "response = requests.get(\"https://api.gitguardian.com/v1/health\", headers=auth_headers)\n",
    "print(response)\n",
    "\n"
   ]
  },
  {
   "cell_type": "markdown",
   "id": "c41005ed",
   "metadata": {},
   "source": [
    "If we see a <Response [200]> then we are good to go\n",
    "If you see some other code, check to make sure your Access Token is valid or that your GitGuardian dashboard is avaiable. \n",
    "\n",
    "Next up, let's get a list of incidents, filtered with:\n",
    "- status=TRIGGERED - all incidents that have a status of TRIGGERED \n",
    "- date_after=2023-03-01 - incidents that happened after a date YYYY-MM-DDThh:mm:ssZ (hours are optional)\n",
    "- ordering=-date - in an ordered list shown decending from the most recent event"
   ]
  },
  {
   "cell_type": "code",
   "execution_count": null,
   "id": "7e06af37",
   "metadata": {},
   "outputs": [],
   "source": [
    "import json\n",
    "response = requests.get(\"http://api.gitguardian.com/v1/incidents/secrets?date_after=2023-03-01&ordering=-date&status=TRIGGERED\", headers=auth_headers)\n",
    "print(json.dumps(response.json(), indent=2))\n",
    "\n"
   ]
  },
  {
   "cell_type": "markdown",
   "id": "544c7103",
   "metadata": {},
   "source": [
    "## Assigning incidents\n",
    "\n",
    "Let's assign the most recent incident to someome.  In this case, me.\n",
    "\n",
    "To do that, we will need to make our first POST command\n",
    "we need to build a payload that consists of 2 things\n",
    "1. incident_id - The id of the incident to retrieve\n",
    "AND\n",
    "2. email - email of the member to assign. This parameter is mutually exclusive with member_id.\n",
    "OR\n",
    "3. member_id - id of the member to assign. This parameter is mutually exclusive with email.\n",
    "\n",
    "We can copy the `indicent_id` from the JSON output above.\n",
    "\n",
    "Hopefully you know or can find `email` of the person you want to assign.\n",
    "\n",
    "How do we find the `member_id`? You can look it up with the API!\n",
    "For this example, I am filtering it to just lookup `role=owner`."
   ]
  },
  {
   "cell_type": "code",
   "execution_count": null,
   "id": "ad56c067",
   "metadata": {},
   "outputs": [],
   "source": [
    "response = requests.get(\"https://api.gitguardian.com/v1/members?role=owner\", headers=auth_headers)\n",
    "print(json.dumps(response.json(), indent=2))\n"
   ]
  },
  {
   "cell_type": "markdown",
   "id": "c442d09d",
   "metadata": {},
   "source": [
    "OK, so from our list we now have the \n",
    "- `indicent_id` \n",
    "- `member_id`, \n",
    "- `email`, \n",
    "let's build a request to assign the first incident to me. I am going to use member ID since I looked it up."
   ]
  },
  {
   "cell_type": "code",
   "execution_count": null,
   "id": "254f08fc",
   "metadata": {},
   "outputs": [],
   "source": [
    "my_incident_id = 5936880\n",
    "my_member_id = 277722\n",
    "response = requests.post(\"https://api.gitguardian.com/v1/incidents/secrets/{}/assign\".format(my_incident_id), headers=auth_headers, data = {\"member_id\" : my_member_id})\n",
    "print(json.dumps(response.json(), indent=2))\n",
    "\n"
   ]
  },
  {
   "cell_type": "markdown",
   "id": "372046b4",
   "metadata": {},
   "source": [
    "You can also unassign incidents, which puts them back to 'triggered' status\n",
    "\n",
    "Note, in Jupyter notebooks, you can just rerun the block above to reassign it, then skip the next block."
   ]
  },
  {
   "cell_type": "code",
   "execution_count": null,
   "id": "abd9a302",
   "metadata": {},
   "outputs": [],
   "source": [
    "response = requests.post(\"https://api.gitguardian.com/v1/incidents/secrets/{}/unassign\".format(my_incident_id), headers=auth_headers, data = {\"member_id\" : my_member_id})\n",
    "print(json.dumps(response.json(), indent=2))\n"
   ]
  },
  {
   "cell_type": "markdown",
   "id": "63632ed0",
   "metadata": {},
   "source": [
    "## Examining an incident\n",
    "\n",
    "Now that we have been assigned the incident, let's take a look at the incident data. "
   ]
  },
  {
   "cell_type": "code",
   "execution_count": null,
   "id": "ff8d5f98",
   "metadata": {},
   "outputs": [],
   "source": [
    "response = requests.get(\"https://api.gitguardian.com/v1/incidents/secrets/{}\".format(my_incident_id), headers=auth_headers)\n",
    "print(json.dumps(response.json(), indent=2))\n",
    "\n"
   ]
  },
  {
   "cell_type": "markdown",
   "id": "759ae2d9",
   "metadata": {},
   "source": [
    "## Making a decision\n",
    "Now I have a decision to make \n",
    "\n",
    "1. Do I have enough information to resolve or ignore this incident?\n",
    "2. Do I need to get more information from the committing author involved?\n"
   ]
  },
  {
   "cell_type": "markdown",
   "id": "2261c030",
   "metadata": {},
   "source": [
    "### Secenario 1: You enough information to resolve or ignore this incident\n",
    "\n",
    "The next decision is to resolve or to ignore. \n",
    "\n",
    "#### Resolving indicents\n",
    "\n",
    "Let's first resolve it. \n",
    "in order to resolve an incident, we need 2 things, \n",
    "1. `incident_id` - we already set this above as my_incident_id\n",
    "2. `secret_revoked` - this is a boolean we pass in as data, either true or false"
   ]
  },
  {
   "cell_type": "code",
   "execution_count": null,
   "id": "d71398e1",
   "metadata": {},
   "outputs": [],
   "source": [
    "response = requests.post(\"https://api.gitguardian.com/v1/incidents/secrets/{}/resolve\".format(my_incident_id), headers=auth_headers, data = {\"secret_revoked\" : \"false\"})\n",
    "print(json.dumps(response.json(), indent=2))\n",
    "\n"
   ]
  },
  {
   "cell_type": "markdown",
   "id": "3dc10e17",
   "metadata": {},
   "source": [
    "### Reopening incidents\n",
    "\n",
    "You can also re-open incidents\n",
    "all we need is the `incident_id`"
   ]
  },
  {
   "cell_type": "code",
   "execution_count": null,
   "id": "c806e654",
   "metadata": {},
   "outputs": [],
   "source": [
    "response = requests.post(\"https://api.gitguardian.com/v1/incidents/secrets/{}/reopen\".format(my_incident_id), headers=auth_headers)\n",
    "print(json.dumps(response.json(), indent=2))\n"
   ]
  },
  {
   "cell_type": "markdown",
   "id": "8f6e3a8c",
   "metadata": {},
   "source": [
    "### Ignoring Incidents\n",
    "\n",
    "You can also choose to ingore incidents\n",
    "\n",
    "Yet again, we need the `indident_id`\n",
    "But we also need a `ignore_reason`\n",
    "This has three possible states, expressed as strings\n",
    "- \"test_credential\"\n",
    "- \"false_positive\"\n",
    "- \"low_risk\"\n",
    "\n",
    "Let's ignore this one as `low_risk`"
   ]
  },
  {
   "cell_type": "code",
   "execution_count": null,
   "id": "6c0e9d22",
   "metadata": {},
   "outputs": [],
   "source": [
    "response = requests.post(\"https://api.gitguardian.com/v1/incidents/secrets/{}/ignore\".format(my_incident_id), headers=auth_headers, data = {\"ignore_reason\" : \"low_risk\"})\n",
    "print(json.dumps(response.json(), indent=2))"
   ]
  },
  {
   "cell_type": "markdown",
   "id": "df7ab1dc",
   "metadata": {},
   "source": [
    "### Scenario 2. I need to get more information from the committing author involved\n",
    "\n",
    "We can do this by enabling sharing and sharing the generated share URL.\n",
    "\n",
    "When requesting the share we have some options: \n",
    "- auto_healing - Default: false - Allow the developer to resolve or ignore through the share link\n",
    "- feedback_collection\t- Default: true - Allow the developer to submit their feedback through the share link\n",
    "- lifespan - Default: 0 - Lifespan, in hours, of the share link. If 0 or unset, a default value will be applied based on the workspace settings.\n",
    "\n",
    "For this example, let's leave `feedback_collection` and `lifespan` alone and set `auto_healing` to `true`\n"
   ]
  },
  {
   "cell_type": "code",
   "execution_count": null,
   "id": "49cf165c",
   "metadata": {},
   "outputs": [],
   "source": [
    "response = requests.post(\"https://api.gitguardian.com/v1/incidents/secrets/{}/share\".format(my_incident_id), headers=auth_headers, data = {\"auto_healing\" : \"true\"})\n",
    "print(json.dumps(response.json(), indent=2))\n",
    "\n"
   ]
  },
  {
   "cell_type": "markdown",
   "id": "4b2ce697",
   "metadata": {},
   "source": [
    "## Scanning for secrets with the API\n",
    "\n",
    "Most of the time when you are scanning a repo or a document, you are going to be better off using ggshield, the CLI.\n",
    "But in the int"
   ]
  },
  {
   "cell_type": "code",
   "execution_count": null,
   "id": "72f11443",
   "metadata": {},
   "outputs": [],
   "source": [
    "import os\n",
    "f = open(\"authorization.py\", \"r\", encoding=\"utf-8\")\n",
    "book = f.read()\n",
    "response = requests.post(\"https://api.gitguardian.com/v1/scan\", headers=auth_headers, data = {\"filename\":\"authorization.py\", \"document\": book})\n",
    "print(json.dumps(response.json(), indent=2))\n",
    "\n"
   ]
  },
  {
   "cell_type": "markdown",
   "id": "6e0b3326",
   "metadata": {},
   "source": [
    "## Automate worflows\n",
    "\n",
    "So far, this kitchen sink demo has served to show\n",
    "- How the API overallworks\n",
    "- What JSON responses look like and how to examine them\n",
    "- The overall workflow of incident assignment, investigation, and resolution with or without developer involvement. \n",
    "\n",
    "I hope it has helped your underatanding.\n",
    "\n",
    "However, everything we have done so far as been manual.\n",
    "The real power of the API is the ability to automate any workflow we can imagine\n",
    "\n",
    "Let's automate the same pattern of \n",
    "- Checking for unassigned, triggered incidents\n",
    "- Assigning the most recent incident to a team member\n",
    "- Let's pre-build the needed link, just in case we need to involve the developer\n",
    "\n",
    "All we need is the API calls we have already defined and a little bit of JSON parsing with python"
   ]
  },
  {
   "cell_type": "code",
   "execution_count": null,
   "id": "43534d06",
   "metadata": {},
   "outputs": [],
   "source": [
    "# We imported these earlier, copying here for convienence\n",
    "# import json\n",
    "# import requests\n",
    "\n",
    "# First, let's get our current list of TRIGGERED incidents, most recent listed first.\n",
    "response = requests.get(\"http://api.gitguardian.com/v1/incidents/secrets?date_after=2023-03-01&ordering=-date&status=TRIGGERED\", headers=auth_headers)\n",
    "\n",
    "# Let's store this JSON data in a var for ease of coding\n",
    "incident_data = response.json()\n",
    "\n",
    "# If there are none, we are done. We can check the number of items with len()\n",
    "if len(incident_data) <= 0:\n",
    "    print(\"There are no more incidents to assign.\")\n",
    "    exit(keep_kernel=True)\n",
    "else:\n",
    "    # Assuming there is one, let's get the first incident's id \n",
    "    first_incident_id = incident_data[0]['id']\n",
    "#     print(first_incident_id) \n",
    "\n",
    "# Next let's grab the first listed member's id so we can assign them this indicent\n",
    "response = requests.get(\"https://api.gitguardian.com/v1/members?role=owner\", headers=auth_headers)\n",
    "assignee_member_id = response.json()[0]['id']\n",
    "# print(assignee_member_id)\n",
    "\n",
    "# Now, let's assign the incident to our member\n",
    "response = requests.post(\"https://api.gitguardian.com/v1/incidents/secrets/{}/assign\".format(first_incident_id), headers=auth_headers, data = {\"member_id\" : assignee_member_id})\n",
    "# print(json.dumps(response.json(), indent=2))\n",
    "\n",
    "# And next, let's get the sharing URL and print it to the terminal\n",
    "# It might already exist, for our incident, so let's check that first before we send another API call\n",
    "# When making the request, let's assume we want the dev to be able to resolve or ignore the incident\n",
    "# Let's print the URL to the terminal\n",
    "\n",
    "if incident_data[0]['share_url']:\n",
    "#     print(\"You already shared it\")\n",
    "    print(incident_data[0]['share_url'])\n",
    "else:\n",
    "    response = requests.post(\"https://api.gitguardian.com/v1/incidents/secrets/{}/share\".format(first_incident_id), headers=auth_headers, data = {\"auto_healing\" : \"true\"})\n",
    "    print(response.json()['share_url'])                                                                                                                                               \n",
    "\n",
    "\n",
    "# And finally, let's show ALL the now updated details about our incident\n",
    "response = requests.get(\"https://api.gitguardian.com/v1/incidents/secrets/{}\".format(first_incident_id), headers=auth_headers)\n",
    "print(json.dumps(response.json(), indent=4))\n",
    "    "
   ]
  },
  {
   "cell_type": "code",
   "execution_count": null,
   "id": "719378a4",
   "metadata": {},
   "outputs": [],
   "source": [
    "### Unassign function for the above for testing reasons. \n",
    "response = requests.post(\"https://api.gitguardian.com/v1/incidents/secrets/{}/unassign\".format(first_incident_id), headers=auth_headers, data = {\"member_id\" : assignee_member_id})\n",
    "print(json.dumps(response.json(), indent=2))\n"
   ]
  }
 ],
 "metadata": {
  "kernelspec": {
   "display_name": "Python 3 (ipykernel)",
   "language": "python",
   "name": "python3"
  },
  "language_info": {
   "codemirror_mode": {
    "name": "ipython",
    "version": 3
   },
   "file_extension": ".py",
   "mimetype": "text/x-python",
   "name": "python",
   "nbconvert_exporter": "python",
   "pygments_lexer": "ipython3",
   "version": "3.10.10"
  }
 },
 "nbformat": 4,
 "nbformat_minor": 5
}
