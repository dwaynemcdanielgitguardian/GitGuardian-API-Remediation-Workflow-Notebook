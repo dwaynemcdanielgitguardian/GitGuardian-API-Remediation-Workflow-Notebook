{
 "cells": [
  {
   "cell_type": "markdown",
   "id": "7a69f533",
   "metadata": {},
   "source": [
    "# Okta + GitGuardian\n",
    "## Scripts for dealing with incidents when the developer is no longer active \n",
    "\n",
    "While we all would love to think our teammates will be around forever, or at least for the life of the company. The truth is sometimes life has other plans. \n",
    "\n",
    "A common scenario for GitGuardian customers, especially when doing historical scans, is that the developer who originally committed the code is long gone. \n",
    "\n",
    "This presents two major problems for an organization:\n",
    "1 - The need to know how many incidents are affected and get a report of each one.\n",
    "2 - Since the dev is gone, the incidents most likely need to be assigned to someone who has deeper familiarity with the projects involved.  \n",
    "\n",
    "The following scripts are examples that can help solve these issues.  \n",
    "\n",
    "This is written to be run manually and makes certain assumptions about your manager/owner access to both Okta and GitGuardian. \n",
    "\n",
    "This is all in the experimental stages but has been tested and works on my machine. \n"
   ]
  },
  {
   "cell_type": "markdown",
   "id": "4d04e649",
   "metadata": {},
   "source": [
    "## Okta 1 - Build List Of Affected Incidents\n",
    "\n",
    "\n",
    "- Looks at the most recent triggered or assigned incidents \n",
    "    - the upper limit is 100 per page (default 10 for testing)\n",
    "- Looks up a list of all the non-active emails in Okta\n",
    "- Compare the assigned user's email to the Okta list\n",
    "    - if the assigned user is not active, unassign the incident\n",
    "\n",
    "Before we can work with Okta, we must set two variables.  Since we never want to hard code any credentials here, I am suggesting for testing reasons we use our .gitignored `authorization.py` file to set:\n",
    "- okta_token = Our Okta API token created from your settings on their platform\n",
    "- okta_subdomain = the workspace instance you are calling, for example dev-111111-admin from the URL https://dev-111111-admin.okta.com\n",
    "\n",
    "Also note, Okta will not return lists of deactivated users, just suspended ones. This is why I used the approach of looking up the active users and working from there. "
   ]
  },
  {
   "cell_type": "code",
   "execution_count": null,
   "id": "05c32c0d",
   "metadata": {},
   "outputs": [],
   "source": [
    "import requests\n",
    "import authorization\n",
    "import json\n",
    "import time\n",
    "\n",
    "auth_headers = {'Authorization' : 'Token {}'.format(authorization.token) }\n",
    "okta_auth_header = {\"Authorization\": \"SSWS {}\".format(authorization.okta_token) }\n",
    "okta_subdomain = authorization.okta_subdomain\n",
    "\n",
    "# Get our current list of TRIGGERED incidents, listed with the most recent first.\n",
    "# There is no current way to run an `or` operator in a filter, if you want a list of ASSIGNED incidents as well, you will need to change the filter and rerun.\n",
    "response = requests.get(\"http://api.gitguardian.com/v1/incidents/secrets?status=TRIGGERED&per_page=10&ordering=-date\", headers=auth_headers )\n",
    "# {'page': 2} is deprecated but still works to get the next batch. Better method would be to leverage `cursor` filter but that takes more logic.\n",
    "\n",
    "# Let's store this JSON data in a var for ease of coding\n",
    "incident_data = response.json()\n",
    "print(\"Total incidents = \" + str(len(incident_data)))\n",
    "\n",
    "## okta work ####################\n",
    "# Get the list of active users from Okta\n",
    "response = requests.get(\"https://{}.okta.com/api/v1/users?filter=status+eq+%22ACTIVE%22\".format(okta_subdomain), headers=okta_auth_header)\n",
    "\n",
    "## Build the list of Active Okta users emails\n",
    "active_user_email_list = []\n",
    "for users in response.json():\n",
    "    active_user_email_list.append(users['profile']['email'])\n",
    "# print(active_user_email_list)\n",
    "\n",
    "# Build a list of affected incidnets = where the developer is no longer active\n",
    "affected_incidents = []\n",
    "for incident in incident_data:\n",
    "    this_incident_id = incident['id']\n",
    "    response = requests.get(\"https://api.gitguardian.com/v1/incidents/secrets/{}\".format(this_incident_id), headers=auth_headers)\n",
    "    committer_email = response.json()['occurrences'][0]['author_info']\n",
    "    if not any(committer_email in email for email in active_user_email_list):\n",
    "        affected_incidents.append(this_incident_id)\n",
    "\n",
    "print(\"Done\")\n",
    "print(affected_incidents)"
   ]
  },
  {
   "cell_type": "markdown",
   "id": "bd516b40",
   "metadata": {},
   "source": [
    "## Okta 2 - Assign Affected Incidents To Approved Team Member\n",
    "\n",
    "*The following code assumes you already ran the above code block and created a file called `affected_incidents`*\n",
    "If you did not run the code, please do that now to proceed. \n",
    "\n",
    "Now that you have a list of the affected incidents, time to assign them to the correct member of the team."
   ]
  },
  {
   "cell_type": "code",
   "execution_count": null,
   "id": "d27259d2",
   "metadata": {},
   "outputs": [],
   "source": [
    "## Manually assign the email address of the relevant team member\n",
    "\n",
    "# Unless you have Bruce on your team, make sure and update the next line\n",
    "assignee_email=\"bruce-wayne-gg@protonmail.com\"\n",
    "\n",
    "# Let's make some reporting related variables. \n",
    "already_assigned_list = []\n",
    "success_list = []\n",
    "issue_list = []\n",
    "\n",
    "print(\"Assigning \"+ str(len(affected_incidents)) + \" to \" + assignee_email + \" in 5 seconds\")\n",
    "#delay for 5 seconds - can kill if somethig looks off\n",
    "time.sleep(5) \n",
    "\n",
    "for incident in affected_incidents:\n",
    "    response = requests.post(\"https://api.gitguardian.com/v1/incidents/secrets/{}/assign\".format(incident), headers=auth_headers, data = {\"email\" : assignee_email})\n",
    "    if response.status_code == 409 :\n",
    "        already_assigned_list.append(incident)\n",
    "    elif response.status_code  == 200 :\n",
    "        success_list.append(incident)\n",
    "    else: \n",
    "        issue_list.append(incident)\n",
    "        \n",
    "print(\"Done\")\n",
    "print(\"Already assigned to this user = \" + str(len(already_assigned_list))) \n",
    "print(\"Successfully assigned to this user = \" + str(len(success_list)))\n",
    "if len(issue_list) > 0:\n",
    "    print(\"Hit some issues with assigning these =\" + str(issue_list))\n"
   ]
  },
  {
   "cell_type": "code",
   "execution_count": null,
   "id": "c1300f35",
   "metadata": {},
   "outputs": [],
   "source": []
  }
 ],
 "metadata": {
  "kernelspec": {
   "display_name": "Python 3 (ipykernel)",
   "language": "python",
   "name": "python3"
  },
  "language_info": {
   "codemirror_mode": {
    "name": "ipython",
    "version": 3
   },
   "file_extension": ".py",
   "mimetype": "text/x-python",
   "name": "python",
   "nbconvert_exporter": "python",
   "pygments_lexer": "ipython3",
   "version": "3.10.10"
  }
 },
 "nbformat": 4,
 "nbformat_minor": 5
}
